{
 "cells": [
  {
   "cell_type": "code",
   "execution_count": 3,
   "id": "07406f79-db69-4c1b-b9ed-6c9e1c666c32",
   "metadata": {},
   "outputs": [
    {
     "name": "stdout",
     "output_type": "stream",
     "text": [
      ":Here\"s how a single-quote escape works.\n",
      "This is how \"escape\"  works with double-quote.\n"
     ]
    }
   ],
   "source": [
    "print(':Here\"s how a single-quote escape works.')\n",
    "print(\"This is how \\\"escape\\\"  works with double-quote.\")"
   ]
  },
  {
   "cell_type": "code",
   "execution_count": 4,
   "id": "bc3a9d62-f808-4f05-964a-d04259d7c5d8",
   "metadata": {},
   "outputs": [
    {
     "name": "stdin",
     "output_type": "stream",
     "text": [
      "What's your name?  ABCDEF\n"
     ]
    },
    {
     "name": "stdout",
     "output_type": "stream",
     "text": [
      "Welcome ABCDEF to AI CLASS!\n"
     ]
    },
    {
     "name": "stdin",
     "output_type": "stream",
     "text": [
      "Where are you from ? AHAHHAHA\n"
     ]
    },
    {
     "name": "stdout",
     "output_type": "stream",
     "text": [
      "Nice to know that you come from AHAHHAHA!\n"
     ]
    }
   ],
   "source": [
    "name = input(\"What's your name? \")\n",
    "print(\"Welcome \" + name + \" to AI CLASS!\")\n",
    "city = input(\"Where are you from ?\")\n",
    "print(\"Nice to know that you come from \" + city +  \"!\")"
   ]
  },
  {
   "cell_type": "code",
   "execution_count": 5,
   "id": "00958ce8-bcd9-4ab6-878d-94728449cc51",
   "metadata": {},
   "outputs": [
    {
     "name": "stdout",
     "output_type": "stream",
     "text": [
      "else block\n"
     ]
    }
   ],
   "source": [
    "if(False == True):\n",
    "    print('if block')\n",
    "else:\n",
    "    print('else block')"
   ]
  },
  {
   "cell_type": "code",
   "execution_count": 7,
   "id": "585ddbed-c272-4d1f-93c9-011501fff1aa",
   "metadata": {},
   "outputs": [
    {
     "name": "stdin",
     "output_type": "stream",
     "text": [
      "number:  -48858585\n"
     ]
    },
    {
     "name": "stdout",
     "output_type": "stream",
     "text": [
      "Negative number\n"
     ]
    }
   ],
   "source": [
    "num = input(\"number: \")\n",
    "if int(num) > 0:\n",
    "    print(\"Positive number\")\n",
    "elif int(num) == 0:\n",
    "    print(\"Zero\")\n",
    "else:\n",
    "    print(\"Negative number\")"
   ]
  },
  {
   "cell_type": "code",
   "execution_count": 8,
   "id": "7b5ac5b4-dd03-41d2-9389-e4908e5739ef",
   "metadata": {},
   "outputs": [
    {
     "name": "stdout",
     "output_type": "stream",
     "text": [
      "151\n"
     ]
    }
   ],
   "source": [
    "numbers = [1,10,20,30,40,50]\n",
    "sum = 0\n",
    "for i in numbers:\n",
    "    sum = sum + i\n",
    "print(sum)"
   ]
  },
  {
   "cell_type": "code",
   "execution_count": 9,
   "id": "5a13a26a-c5f1-4488-be63-8a148be35cbc",
   "metadata": {},
   "outputs": [
    {
     "name": "stdout",
     "output_type": "stream",
     "text": [
      "1 \n",
      "\n",
      "10 \n",
      "\n",
      "20 \n",
      "\n",
      "30 \n",
      "\n",
      "40 \n",
      "\n",
      "50 \n",
      "\n"
     ]
    }
   ],
   "source": [
    "for number in [1,10,20,30,40,50]:\n",
    "  print(number,\"\\n\")"
   ]
  },
  {
   "cell_type": "code",
   "execution_count": 10,
   "id": "09334eb9-4ad3-49bc-87f4-aefff5b6a5ad",
   "metadata": {},
   "outputs": [
    {
     "name": "stdout",
     "output_type": "stream",
     "text": [
      "4\n",
      "5\n",
      "6\n",
      "7\n",
      "8\n",
      "9\n"
     ]
    }
   ],
   "source": [
    "value = 4\n",
    "while value<10:\n",
    "    print(value)\n",
    "    value+=1"
   ]
  },
  {
   "cell_type": "code",
   "execution_count": 11,
   "id": "016c2f3c-fb51-405b-9dca-04aef4660801",
   "metadata": {},
   "outputs": [
    {
     "name": "stdout",
     "output_type": "stream",
     "text": [
      "var1[0:3]:  tes\n",
      "var2[1:6]: >  am r <\n"
     ]
    }
   ],
   "source": [
    "var1 = 'testing'\n",
    "var2 = \"I am running\"\n",
    "var3 = \"Hello! \"\n",
    "\n",
    "print (\"var1[0:3]: \", var1[0:3])\n",
    "print (\"var2[1:6]: >\", var2[1:6],\"<\")"
   ]
  },
  {
   "cell_type": "code",
   "execution_count": 12,
   "id": "4a219510-71e2-4dbc-9562-1416eb4ffbd7",
   "metadata": {},
   "outputs": [
    {
     "name": "stdout",
     "output_type": "stream",
     "text": [
      "['ABC', 1234, 2.34, 'Aditya', 71.2]\n",
      "Aditya\n",
      "[1234, 2.34]\n",
      "[2.34, 'Aditya', 71.2]\n",
      "[123, 'john', 123, 'john']\n",
      "['ABC', 1234, 2.34, 'Aditya', 71.2, 123, 'john']\n"
     ]
    }
   ],
   "source": [
    "list = [ 'ABC', 1234 , 2.34, 'Aditya', 71.2 ]\n",
    "tinylist = [123, 'john']\n",
    "print (list)\n",
    "print (list[-2])\n",
    "print (list[1:3])\n",
    "print (list[2:])\n",
    "print (tinylist * 2)\n",
    "print (list + tinylist)"
   ]
  },
  {
   "cell_type": "code",
   "execution_count": 13,
   "id": "1247d915-55bb-4aa7-9140-f3997d25bccd",
   "metadata": {},
   "outputs": [
    {
     "name": "stdout",
     "output_type": "stream",
     "text": [
      "['AI', 'Technologies', 11, 15]\n",
      "After deleting value at index 2 :  ['AI', 'Technologies', 15]\n"
     ]
    }
   ],
   "source": [
    "list1 = ['AI', 'Technologies', 11, 15]\n",
    "\n",
    "print (list1)\n",
    "del list1[2]\n",
    "print (\"After deleting value at index 2 : \", list1)"
   ]
  },
  {
   "cell_type": "code",
   "execution_count": 14,
   "id": "89f05dc8-feb7-486a-96f7-142016c9d1b0",
   "metadata": {},
   "outputs": [
    {
     "name": "stdout",
     "output_type": "stream",
     "text": [
      "[1, 2, 3, 4, 5, 9, 2, 4, 512, 1, 3, 'Aditya', 'Ronit', 'Vikrant']\n"
     ]
    }
   ],
   "source": [
    "a1 = [1,2,3,4,5,9]\n",
    "a2 = [2,4,512,1,3]\n",
    "a3 = ['Aditya', 'Ronit', 'Vikrant']\n",
    "print(a1+a2+a3)"
   ]
  },
  {
   "cell_type": "code",
   "execution_count": 15,
   "id": "65dc520a-9145-41db-9a9a-48e718f19f32",
   "metadata": {},
   "outputs": [
    {
     "name": "stdout",
     "output_type": "stream",
     "text": [
      "[ 5  7  9 12 12]\n",
      "[12 15 18 21 21]\n",
      "No. of dimensions:  1\n",
      "Shape of array:  (5,)\n",
      "Size of array:  5\n",
      "Array stores elements of type:  int64\n"
     ]
    }
   ],
   "source": [
    "import numpy as np\n",
    "\n",
    "b1 = np.array([1,2,3,5,5])    \n",
    "b2 = np.array([4,5,6,7,7])\n",
    "\n",
    "print(b1+b2)\n",
    "\n",
    "print(b2 * 3)\n",
    "print(\"No. of dimensions: \", b1.ndim) \n",
    "\n",
    "print(\"Shape of array: \", b1.shape)\n",
    "\n",
    "print(\"Size of array: \", b1.size)\n",
    "\n",
    "print(\"Array stores elements of type: \", b1.dtype)"
   ]
  },
  {
   "cell_type": "code",
   "execution_count": 16,
   "id": "ebdc5d6d-a87a-4f42-bfad-76bbffcfbcf4",
   "metadata": {},
   "outputs": [],
   "source": [
    "# array creation\n",
    "import numpy as np\n",
    "\n",
    "A = np.array([[1, 2, 4], [5, 8, 7]], dtype = 'float')\n",
    "\n",
    "B = np.zeros((3, 4))\n",
    "\n",
    "C = np.full((3, 3), 6, dtype = 'complex')\n",
    "\n",
    "D = np.random.randn(2, 2)\n",
    "\n",
    "E = np.random.random((2, 2))"
   ]
  },
  {
   "cell_type": "code",
   "execution_count": 17,
   "id": "b54148de-88b3-41c2-95f2-d0989f0e8586",
   "metadata": {},
   "outputs": [
    {
     "name": "stdout",
     "output_type": "stream",
     "text": [
      "Array created using passed list:\n",
      " [[1. 2. 4.]\n",
      " [5. 8. 7.]]\n",
      "\n",
      "An array initialized with all zeros:\n",
      " [[0. 0. 0. 0.]\n",
      " [0. 0. 0. 0.]\n",
      " [0. 0. 0. 0.]]\n",
      "\n",
      "An array initialized with all 6s.Array type is complex:\n",
      " [[6.+0.j 6.+0.j 6.+0.j]\n",
      " [6.+0.j 6.+0.j 6.+0.j]\n",
      " [6.+0.j 6.+0.j 6.+0.j]]\n",
      "\n",
      "A random array:\n",
      " [[-0.4570723   1.01427387]\n",
      " [-1.80069721 -1.22404752]]\n",
      "\n",
      "Another random array:\n",
      " [[0.15558406 0.22761854]\n",
      " [0.53260638 0.21466263]]\n"
     ]
    }
   ],
   "source": [
    "print (\"Array created using passed list:\\n\", A)\n",
    "\n",
    "print (\"\\nAn array initialized with all zeros:\\n\", B)\n",
    "\n",
    "print (\"\\nAn array initialized with all 6s.\"\n",
    "            \"Array type is complex:\\n\", C)\n",
    "\n",
    "print (\"\\nA random array:\\n\", D)\n",
    "\n",
    "print (\"\\nAnother random array:\\n\", E)"
   ]
  },
  {
   "cell_type": "code",
   "execution_count": 18,
   "id": "4bb69cfd-98e6-488c-865d-a09d8fe67fb6",
   "metadata": {},
   "outputs": [
    {
     "name": "stdout",
     "output_type": "stream",
     "text": [
      "(3, 4)\n",
      "(2, 2, 3)\n",
      "\n",
      "Original array:\n",
      " [[1 2 3 4]\n",
      " [5 6 7 8]\n",
      " [9 1 2 3]]\n",
      "Reshaped array:\n",
      " [[[1 2 3]\n",
      "  [4 5 6]]\n",
      "\n",
      " [[7 8 9]\n",
      "  [1 2 3]]]\n",
      "\n",
      "Original array:\n",
      " [[1 2 3]\n",
      " [4 5 6]]\n",
      "Fattened array:\n",
      " [1 2 3 4 5 6]\n"
     ]
    }
   ],
   "source": [
    "A = np.array([[1, 2, 3, 4],\n",
    "                [5, 6, 7, 8],\n",
    "                [9, 1, 2, 3]])\n",
    "print(A.shape)\n",
    "new_A = A.reshape(2, 2, 3)\n",
    "print(new_A.shape)\n",
    "\n",
    "B = np.array([[1, 2, 3], [4, 5, 6]])\n",
    "flat_B= B.flatten()\n",
    "\n",
    "print (\"\\nOriginal array:\\n\", A)\n",
    "print (\"Reshaped array:\\n\", new_A)\n",
    "print (\"\\nOriginal array:\\n\", B)\n",
    "print (\"Fattened array:\\n\", flat_B)"
   ]
  },
  {
   "cell_type": "code",
   "execution_count": 19,
   "id": "334f4615-2b75-4eff-ba38-217bf71a047c",
   "metadata": {},
   "outputs": [
    {
     "name": "stdout",
     "output_type": "stream",
     "text": [
      "dict['Name']:  Zara\n",
      "dict['Age']:  7\n"
     ]
    }
   ],
   "source": [
    "dict = {'Name': 'Zara', 'Age': 7, 'Class': 'First'}\n",
    "print (\"dict['Name']: \", dict['Name'])\n",
    "print (\"dict['Age']: \", dict['Age'])"
   ]
  },
  {
   "cell_type": "code",
   "execution_count": 20,
   "id": "8dcd6510-4aa4-4486-a914-f3e7ef7b6cc9",
   "metadata": {},
   "outputs": [
    {
     "name": "stdout",
     "output_type": "stream",
     "text": [
      "{2: 68, 3: 89, 4: 94, 5: 54}\n"
     ]
    }
   ],
   "source": [
    "Student= {1:75, 2: 68, 3: 89, 4: 94, 5:54 }\n",
    "del Student[1]\n",
    "print(Student)"
   ]
  },
  {
   "cell_type": "code",
   "execution_count": 21,
   "id": "2167cd08-837e-4ede-9c85-e9b743595bb4",
   "metadata": {},
   "outputs": [
    {
     "data": {
      "image/png": "[encoded data removed]",
      "text/plain": [
       "<Figure size 640x480 with 1 Axes>"
      ]
     },
     "metadata": {},
     "output_type": "display_data"
    },
    {
     "data": {
      "image/png": "[encoded data removed]",
      "text/plain": [
       "<Figure size 640x480 with 1 Axes>"
      ]
     },
     "metadata": {},
     "output_type": "display_data"
    }
   ],
   "source": [
    "from matplotlib import pyplot as plt\n",
    "\n",
    "years = [1950, 1960, 1970, 1980, 1990, 2000, 2010]\n",
    "America_gdp = [300.2, 543.3, 1075.9, 2862.5, 5979.6, 10289.7, 14958.3]\n",
    "China_gdp = [30.2, 240.3, 675.9, 1262.5, 3579.6, 7089.7, 10958.3]\n",
    "\n",
    "plt.plot(years, America_gdp, color='blue', marker='*', linestyle='solid')\n",
    "plt.plot(years, China_gdp, color='red', marker='o', linestyle='solid')\n",
    "plt.bar(years,China_gdp)\n",
    "plt.scatter(years,America_gdp)\n",
    "plt.show()\n",
    "plot = plt.plot()\n",
    "plot = plt.hist(China_gdp)"
   ]
  },
  {
   "cell_type": "code",
   "execution_count": 22,
   "id": "15589400-4b48-4259-8c16-69b0ca0a69f9",
   "metadata": {},
   "outputs": [],
   "source": [
    "a = np.array([1,\"hello\"])"
   ]
  },
  {
   "cell_type": "code",
   "execution_count": 23,
   "id": "d152f8d7-97a9-4476-b707-032524bb665f",
   "metadata": {},
   "outputs": [],
   "source": [
    "import pandas as pd\n",
    "a = pd.Series(a)"
   ]
  },
  {
   "cell_type": "code",
   "execution_count": 24,
   "id": "5c8e4cbb-5e55-4b40-947d-d8d4eac300ab",
   "metadata": {},
   "outputs": [
    {
     "data": {
      "text/plain": [
       "<bound method NDFrame.describe of 0        1\n",
       "1    hello\n",
       "dtype: object>"
      ]
     },
     "execution_count": 24,
     "metadata": {},
     "output_type": "execute_result"
    }
   ],
   "source": [
    "a.describe"
   ]
  },
  {
   "cell_type": "code",
   "execution_count": null,
   "id": "eb6731e5-12fd-4833-9853-83cbf12ccaa8",
   "metadata": {},
   "outputs": [],
   "source": []
  }
 ],
 "metadata": {
  "kernelspec": {
   "display_name": "Python 3 (ipykernel)",
   "language": "python",
   "name": "python3"
  },
  "language_info": {
   "codemirror_mode": {
    "name": "ipython",
    "version": 3
   },
   "file_extension": ".py",
   "mimetype": "text/x-python",
   "name": "python",
   "nbconvert_exporter": "python",
   "pygments_lexer": "ipython3",
   "version": "3.11.5"
  }
 },
 "nbformat": 4,
 "nbformat_minor": 5
}
