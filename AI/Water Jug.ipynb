{
 "cells": [
  {
   "cell_type": "code",
   "execution_count": 60,
   "id": "349237b6-e865-4536-a8d3-5a0f729afda1",
   "metadata": {},
   "outputs": [],
   "source": [
    "import numpy as np\n",
    "import pandas as pd"
   ]
  },
  {
   "cell_type": "code",
   "execution_count": 22,
   "id": "fa358f53-307b-47f8-ad40-33d9daf62742",
   "metadata": {},
   "outputs": [],
   "source": [
    "def apply_rule(rule,x,y):\n",
    "    if(rule == 1 and x<4):\n",
    "        x = 4\n",
    "    elif(rule == 2 and y<3):\n",
    "        y = 3\n",
    "    elif(rule == 3 and x>0):\n",
    "        x = 0\n",
    "    elif(rule == 4 and y>0):\n",
    "        y = 0\n",
    "    elif(rule == 5 and x+y>=4 and y>0):\n",
    "        y = y - (4-x)\n",
    "        x = 4\n",
    "    elif(rule == 6 and x+y>=3 and x>0):\n",
    "        x = x-(3-y)\n",
    "        y = 3\n",
    "    elif(rule == 7 and x+y<=4 and y>0):\n",
    "        x = x+y\n",
    "        y = 0\n",
    "    elif(rule == 8 and x+y<=3 and x>0):\n",
    "        y = x+y\n",
    "        x = 0\n",
    "    elif(rule == 9 and (x,y)==(0,2)):\n",
    "        x = 2\n",
    "        y = 0\n",
    "    elif(rule == 0):\n",
    "        x = 0\n",
    "        y = 0\n",
    "    return(x,y)"
   ]
  },
  {
   "cell_type": "code",
   "execution_count": 37,
   "id": "e9efa8c4-30fb-4b35-b8d0-47541fdf5b46",
   "metadata": {},
   "outputs": [
    {
     "name": "stdout",
     "output_type": "stream",
     "text": [
      "[(0, 0, 1), (4, 0, 1), (4, 0, 2), (4, 3, 1), (4, 3, 2), (4, 3, 3), (0, 3, 1), (4, 3, 4), (4, 0, 3), (0, 0, 2), (0, 3, 2), (0, 3, 3), (0, 3, 5), (0, 3, 6), (0, 3, 7), (3, 0, 1), (4, 0, 4), (4, 0, 5), (4, 0, 6), (1, 3, 2), (1, 3, 4), (1, 0, 4), (1, 0, 5), (1, 0, 6), (1, 0, 7), (1, 0, 8), (0, 1, 1), (4, 1, 1), (4, 1, 5), (4, 1, 6), (2, 3, 2), (2, 3, 4)]\n",
      "Target Achieved\n",
      "[(0, 0, 1), (4, 0, 1), (4, 0, 2), (4, 3, 1), (4, 3, 2), (4, 3, 3), (0, 3, 1), (4, 3, 4), (4, 0, 3), (0, 0, 2), (0, 3, 2), (0, 3, 3), (0, 3, 5), (0, 3, 6), (0, 3, 7), (3, 0, 2), (3, 3, 2), (3, 3, 5), (4, 2, 1), (4, 2, 3), (0, 2, 3), (0, 2, 5), (0, 2, 6), (0, 2, 7)]\n",
      "Target Achieved\n",
      "[(0, 0, 1), (4, 0, 1), (4, 0, 2), (4, 3, 1), (4, 3, 2), (4, 3, 3), (0, 3, 1), (4, 3, 4), (4, 0, 3), (0, 0, 2), (0, 3, 2), (0, 3, 3), (0, 3, 5), (0, 3, 6), (0, 3, 7), (3, 0, 2), (3, 3, 2), (3, 3, 5), (4, 2, 1), (4, 2, 3), (0, 2, 3), (0, 2, 5), (0, 2, 6), (0, 2, 8), (0, 2, 9)]\n",
      "Target Achieved\n"
     ]
    }
   ],
   "source": [
    "map = {}\n",
    "def water_jug(x,y,target,state_space=[]):\n",
    "    if((x,y) == (target,0)):\n",
    "        print(state_space)\n",
    "        print(\"Target Achieved\")\n",
    "        return\n",
    "    for i in range(1,10):\n",
    "        if((x,y,i) in map):\n",
    "            continue\n",
    "        else:\n",
    "            map[(x,y,i)] = 1\n",
    "            state_space.append((x,y,i))\n",
    "            new_x, new_y = apply_rule(i, x, y)\n",
    "            water_jug(new_x,new_y,target)\n",
    "            state_space.pop()\n",
    "            \n",
    "water_jug(0,0,2)"
   ]
  },
  {
   "cell_type": "code",
   "execution_count": 87,
   "id": "5c3a14d0-98eb-4c81-a3fd-d589a03aaa15",
   "metadata": {},
   "outputs": [
    {
     "name": "stdout",
     "output_type": "stream",
     "text": [
      "(0, 0)\n",
      "(0, 3)\n",
      "(4, 0)\n",
      "(1, 3)\n",
      "(3, 1)\n",
      "(2, 2)\n",
      "(2, 0)\n"
     ]
    }
   ],
   "source": [
    "def water_jug_bfs(a,b,target):\n",
    "    state_space = []\n",
    "    past_space_map = {}\n",
    "    state_space.append((0,0))\n",
    "\n",
    "    path = []\n",
    "    \n",
    "    while(len(state_space)!=0):\n",
    "        x,y = state_space.pop()\n",
    "        \n",
    "        if((x,y) in past_space_map):\n",
    "            continue\n",
    "        if(x>a or y>b or x<0 or y<0):\n",
    "            continue\n",
    "\n",
    "        path.append((x,y))\n",
    "\n",
    "        past_space_map[(x,y)] = 1\n",
    "        \n",
    "        if(x == target or y == target):\n",
    "            if(x==target):\n",
    "                if(y!=0):\n",
    "                    path.append((x,0))\n",
    "            else:\n",
    "                if(x!=0):\n",
    "                    path.append((y,0))\n",
    "            for i in path:\n",
    "                print(i)\n",
    "            break\n",
    "\n",
    "        state_space.append((x,b))\n",
    "        state_space.append((a,y))\n",
    "\n",
    "        for i in range(max(a,b)+1):\n",
    "            c = x + i\n",
    "            d = y - i\n",
    "            if(c == a or d>=0):\n",
    "                state_space.append((c,d))\n",
    "\n",
    "            c = x -i\n",
    "            d = y + i\n",
    "            if(d==b or c>=0):\n",
    "                state_space.append((c,d))\n",
    "\n",
    "        state_space.append((a,0))\n",
    "        state_space.append((0,b))\n",
    "water_jug_bfs(4,3,2)"
   ]
  },
  {
   "cell_type": "code",
   "execution_count": 75,
   "id": "dd409278-1737-4158-b823-370f5209f742",
   "metadata": {},
   "outputs": [],
   "source": [
    "m = [[0]*5]*6"
   ]
  },
  {
   "cell_type": "code",
   "execution_count": 72,
   "id": "275fa0fc-fe16-4a20-8eb3-cef81bfc5e8f",
   "metadata": {},
   "outputs": [
    {
     "data": {
      "text/plain": [
       "[[0, 0, 0, 0, 0],\n",
       " [0, 0, 0, 0, 0],\n",
       " [0, 0, 0, 0, 0],\n",
       " [0, 0, 0, 0, 0],\n",
       " [0, 0, 0, 0, 0],\n",
       " [0, 0, 0, 0, 0]]"
      ]
     },
     "execution_count": 72,
     "metadata": {},
     "output_type": "execute_result"
    }
   ],
   "source": [
    "m"
   ]
  },
  {
   "cell_type": "code",
   "execution_count": null,
   "id": "64e31d7c-48f4-4b89-9448-effe59aed3fc",
   "metadata": {},
   "outputs": [],
   "source": []
  }
 ],
 "metadata": {
  "kernelspec": {
   "display_name": "Python 3 (ipykernel)",
   "language": "python",
   "name": "python3"
  },
  "language_info": {
   "codemirror_mode": {
    "name": "ipython",
    "version": 3
   },
   "file_extension": ".py",
   "mimetype": "text/x-python",
   "name": "python",
   "nbconvert_exporter": "python",
   "pygments_lexer": "ipython3",
   "version": "3.10.12"
  }
 },
 "nbformat": 4,
 "nbformat_minor": 5
}
